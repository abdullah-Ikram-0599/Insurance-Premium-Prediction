{
  "cells": [
    {
      "cell_type": "markdown",
      "id": "86960d4b",
      "metadata": {
        "id": "86960d4b"
      },
      "source": [
        "### Model Training"
      ]
    },
    {
      "cell_type": "code",
      "execution_count": 1,
      "id": "kS8wwHUfZEb0",
      "metadata": {
        "colab": {
          "base_uri": "https://localhost:8080/"
        },
        "id": "kS8wwHUfZEb0",
        "outputId": "dbd88a85-659f-4798-8b6a-f1514c089d38"
      },
      "outputs": [
        {
          "output_type": "stream",
          "name": "stdout",
          "text": [
            "Drive already mounted at /content/drive; to attempt to forcibly remount, call drive.mount(\"/content/drive\", force_remount=True).\n"
          ]
        }
      ],
      "source": [
        "from google.colab import drive\n",
        "drive.mount('/content/drive')"
      ]
    },
    {
      "cell_type": "code",
      "execution_count": 2,
      "id": "VX1Yu7NnZHzJ",
      "metadata": {
        "colab": {
          "base_uri": "https://localhost:8080/"
        },
        "id": "VX1Yu7NnZHzJ",
        "outputId": "a6bbc3af-bf10-408e-ad11-c42c7982e8e4"
      },
      "outputs": [
        {
          "output_type": "stream",
          "name": "stdout",
          "text": [
            "/content/drive/My Drive/Colab Notebooks/Insurance-Premium-Prediction\n"
          ]
        }
      ],
      "source": [
        "%cd /content/drive/My Drive/Colab Notebooks/Insurance-Premium-Prediction"
      ]
    },
    {
      "cell_type": "markdown",
      "id": "b45eda30",
      "metadata": {
        "id": "b45eda30"
      },
      "source": [
        "#### Importing Pandas, Numpy, Matplotlib, Seaborn and Warnings Library."
      ]
    },
    {
      "cell_type": "code",
      "execution_count": 3,
      "id": "41dbf1ac",
      "metadata": {
        "id": "41dbf1ac"
      },
      "outputs": [],
      "source": [
        "# Basic Import\n",
        "import numpy as np\n",
        "import pandas as pd\n",
        "import matplotlib.pyplot as plt\n",
        "import seaborn as sns\n",
        "import os"
      ]
    },
    {
      "cell_type": "markdown",
      "id": "0efad062",
      "metadata": {
        "id": "0efad062"
      },
      "source": [
        "#### Import the CSV Data as Pandas DataFrame"
      ]
    },
    {
      "cell_type": "code",
      "execution_count": 4,
      "id": "05b66b24",
      "metadata": {
        "id": "05b66b24"
      },
      "outputs": [],
      "source": [
        "df = pd.read_csv(\"./insurance.csv\")"
      ]
    },
    {
      "cell_type": "markdown",
      "id": "9c613ad2",
      "metadata": {
        "id": "9c613ad2"
      },
      "source": [
        "#### Show Top 5 Records"
      ]
    },
    {
      "cell_type": "code",
      "execution_count": 5,
      "id": "0e9d61c1",
      "metadata": {
        "colab": {
          "base_uri": "https://localhost:8080/",
          "height": 204
        },
        "id": "0e9d61c1",
        "outputId": "48b1c55c-2193-49bf-97b2-7fc310a46198"
      },
      "outputs": [
        {
          "output_type": "execute_result",
          "data": {
            "text/plain": [
              "   age     sex   bmi  children smoker     region  expenses\n",
              "0   19  female  27.9         0    yes  southwest  16884.92\n",
              "1   18    male  33.8         1     no  southeast   1725.55\n",
              "2   28    male  33.0         3     no  southeast   4449.46\n",
              "3   33    male  22.7         0     no  northwest  21984.47\n",
              "4   32    male  28.9         0     no  northwest   3866.86"
            ],
            "text/html": [
              "\n",
              "  <div id=\"df-df9693f3-b3b6-47d3-b0e1-8ac0c7bddcba\" class=\"colab-df-container\">\n",
              "    <div>\n",
              "<style scoped>\n",
              "    .dataframe tbody tr th:only-of-type {\n",
              "        vertical-align: middle;\n",
              "    }\n",
              "\n",
              "    .dataframe tbody tr th {\n",
              "        vertical-align: top;\n",
              "    }\n",
              "\n",
              "    .dataframe thead th {\n",
              "        text-align: right;\n",
              "    }\n",
              "</style>\n",
              "<table border=\"1\" class=\"dataframe\">\n",
              "  <thead>\n",
              "    <tr style=\"text-align: right;\">\n",
              "      <th></th>\n",
              "      <th>age</th>\n",
              "      <th>sex</th>\n",
              "      <th>bmi</th>\n",
              "      <th>children</th>\n",
              "      <th>smoker</th>\n",
              "      <th>region</th>\n",
              "      <th>expenses</th>\n",
              "    </tr>\n",
              "  </thead>\n",
              "  <tbody>\n",
              "    <tr>\n",
              "      <th>0</th>\n",
              "      <td>19</td>\n",
              "      <td>female</td>\n",
              "      <td>27.9</td>\n",
              "      <td>0</td>\n",
              "      <td>yes</td>\n",
              "      <td>southwest</td>\n",
              "      <td>16884.92</td>\n",
              "    </tr>\n",
              "    <tr>\n",
              "      <th>1</th>\n",
              "      <td>18</td>\n",
              "      <td>male</td>\n",
              "      <td>33.8</td>\n",
              "      <td>1</td>\n",
              "      <td>no</td>\n",
              "      <td>southeast</td>\n",
              "      <td>1725.55</td>\n",
              "    </tr>\n",
              "    <tr>\n",
              "      <th>2</th>\n",
              "      <td>28</td>\n",
              "      <td>male</td>\n",
              "      <td>33.0</td>\n",
              "      <td>3</td>\n",
              "      <td>no</td>\n",
              "      <td>southeast</td>\n",
              "      <td>4449.46</td>\n",
              "    </tr>\n",
              "    <tr>\n",
              "      <th>3</th>\n",
              "      <td>33</td>\n",
              "      <td>male</td>\n",
              "      <td>22.7</td>\n",
              "      <td>0</td>\n",
              "      <td>no</td>\n",
              "      <td>northwest</td>\n",
              "      <td>21984.47</td>\n",
              "    </tr>\n",
              "    <tr>\n",
              "      <th>4</th>\n",
              "      <td>32</td>\n",
              "      <td>male</td>\n",
              "      <td>28.9</td>\n",
              "      <td>0</td>\n",
              "      <td>no</td>\n",
              "      <td>northwest</td>\n",
              "      <td>3866.86</td>\n",
              "    </tr>\n",
              "  </tbody>\n",
              "</table>\n",
              "</div>\n",
              "    <div class=\"colab-df-buttons\">\n",
              "\n",
              "  <div class=\"colab-df-container\">\n",
              "    <button class=\"colab-df-convert\" onclick=\"convertToInteractive('df-df9693f3-b3b6-47d3-b0e1-8ac0c7bddcba')\"\n",
              "            title=\"Convert this dataframe to an interactive table.\"\n",
              "            style=\"display:none;\">\n",
              "\n",
              "  <svg xmlns=\"http://www.w3.org/2000/svg\" height=\"24px\" viewBox=\"0 -960 960 960\">\n",
              "    <path d=\"M120-120v-720h720v720H120Zm60-500h600v-160H180v160Zm220 220h160v-160H400v160Zm0 220h160v-160H400v160ZM180-400h160v-160H180v160Zm440 0h160v-160H620v160ZM180-180h160v-160H180v160Zm440 0h160v-160H620v160Z\"/>\n",
              "  </svg>\n",
              "    </button>\n",
              "\n",
              "  <style>\n",
              "    .colab-df-container {\n",
              "      display:flex;\n",
              "      gap: 12px;\n",
              "    }\n",
              "\n",
              "    .colab-df-convert {\n",
              "      background-color: #E8F0FE;\n",
              "      border: none;\n",
              "      border-radius: 50%;\n",
              "      cursor: pointer;\n",
              "      display: none;\n",
              "      fill: #1967D2;\n",
              "      height: 32px;\n",
              "      padding: 0 0 0 0;\n",
              "      width: 32px;\n",
              "    }\n",
              "\n",
              "    .colab-df-convert:hover {\n",
              "      background-color: #E2EBFA;\n",
              "      box-shadow: 0px 1px 2px rgba(60, 64, 67, 0.3), 0px 1px 3px 1px rgba(60, 64, 67, 0.15);\n",
              "      fill: #174EA6;\n",
              "    }\n",
              "\n",
              "    .colab-df-buttons div {\n",
              "      margin-bottom: 4px;\n",
              "    }\n",
              "\n",
              "    [theme=dark] .colab-df-convert {\n",
              "      background-color: #3B4455;\n",
              "      fill: #D2E3FC;\n",
              "    }\n",
              "\n",
              "    [theme=dark] .colab-df-convert:hover {\n",
              "      background-color: #434B5C;\n",
              "      box-shadow: 0px 1px 3px 1px rgba(0, 0, 0, 0.15);\n",
              "      filter: drop-shadow(0px 1px 2px rgba(0, 0, 0, 0.3));\n",
              "      fill: #FFFFFF;\n",
              "    }\n",
              "  </style>\n",
              "\n",
              "    <script>\n",
              "      const buttonEl =\n",
              "        document.querySelector('#df-df9693f3-b3b6-47d3-b0e1-8ac0c7bddcba button.colab-df-convert');\n",
              "      buttonEl.style.display =\n",
              "        google.colab.kernel.accessAllowed ? 'block' : 'none';\n",
              "\n",
              "      async function convertToInteractive(key) {\n",
              "        const element = document.querySelector('#df-df9693f3-b3b6-47d3-b0e1-8ac0c7bddcba');\n",
              "        const dataTable =\n",
              "          await google.colab.kernel.invokeFunction('convertToInteractive',\n",
              "                                                    [key], {});\n",
              "        if (!dataTable) return;\n",
              "\n",
              "        const docLinkHtml = 'Like what you see? Visit the ' +\n",
              "          '<a target=\"_blank\" href=https://colab.research.google.com/notebooks/data_table.ipynb>data table notebook</a>'\n",
              "          + ' to learn more about interactive tables.';\n",
              "        element.innerHTML = '';\n",
              "        dataTable['output_type'] = 'display_data';\n",
              "        await google.colab.output.renderOutput(dataTable, element);\n",
              "        const docLink = document.createElement('div');\n",
              "        docLink.innerHTML = docLinkHtml;\n",
              "        element.appendChild(docLink);\n",
              "      }\n",
              "    </script>\n",
              "  </div>\n",
              "\n",
              "\n",
              "    <div id=\"df-d94c0a4a-584e-46ad-abd6-772f18638cb2\">\n",
              "      <button class=\"colab-df-quickchart\" onclick=\"quickchart('df-d94c0a4a-584e-46ad-abd6-772f18638cb2')\"\n",
              "                title=\"Suggest charts\"\n",
              "                style=\"display:none;\">\n",
              "\n",
              "<svg xmlns=\"http://www.w3.org/2000/svg\" height=\"24px\"viewBox=\"0 0 24 24\"\n",
              "     width=\"24px\">\n",
              "    <g>\n",
              "        <path d=\"M19 3H5c-1.1 0-2 .9-2 2v14c0 1.1.9 2 2 2h14c1.1 0 2-.9 2-2V5c0-1.1-.9-2-2-2zM9 17H7v-7h2v7zm4 0h-2V7h2v10zm4 0h-2v-4h2v4z\"/>\n",
              "    </g>\n",
              "</svg>\n",
              "      </button>\n",
              "\n",
              "<style>\n",
              "  .colab-df-quickchart {\n",
              "      --bg-color: #E8F0FE;\n",
              "      --fill-color: #1967D2;\n",
              "      --hover-bg-color: #E2EBFA;\n",
              "      --hover-fill-color: #174EA6;\n",
              "      --disabled-fill-color: #AAA;\n",
              "      --disabled-bg-color: #DDD;\n",
              "  }\n",
              "\n",
              "  [theme=dark] .colab-df-quickchart {\n",
              "      --bg-color: #3B4455;\n",
              "      --fill-color: #D2E3FC;\n",
              "      --hover-bg-color: #434B5C;\n",
              "      --hover-fill-color: #FFFFFF;\n",
              "      --disabled-bg-color: #3B4455;\n",
              "      --disabled-fill-color: #666;\n",
              "  }\n",
              "\n",
              "  .colab-df-quickchart {\n",
              "    background-color: var(--bg-color);\n",
              "    border: none;\n",
              "    border-radius: 50%;\n",
              "    cursor: pointer;\n",
              "    display: none;\n",
              "    fill: var(--fill-color);\n",
              "    height: 32px;\n",
              "    padding: 0;\n",
              "    width: 32px;\n",
              "  }\n",
              "\n",
              "  .colab-df-quickchart:hover {\n",
              "    background-color: var(--hover-bg-color);\n",
              "    box-shadow: 0 1px 2px rgba(60, 64, 67, 0.3), 0 1px 3px 1px rgba(60, 64, 67, 0.15);\n",
              "    fill: var(--button-hover-fill-color);\n",
              "  }\n",
              "\n",
              "  .colab-df-quickchart-complete:disabled,\n",
              "  .colab-df-quickchart-complete:disabled:hover {\n",
              "    background-color: var(--disabled-bg-color);\n",
              "    fill: var(--disabled-fill-color);\n",
              "    box-shadow: none;\n",
              "  }\n",
              "\n",
              "  .colab-df-spinner {\n",
              "    border: 2px solid var(--fill-color);\n",
              "    border-color: transparent;\n",
              "    border-bottom-color: var(--fill-color);\n",
              "    animation:\n",
              "      spin 1s steps(1) infinite;\n",
              "  }\n",
              "\n",
              "  @keyframes spin {\n",
              "    0% {\n",
              "      border-color: transparent;\n",
              "      border-bottom-color: var(--fill-color);\n",
              "      border-left-color: var(--fill-color);\n",
              "    }\n",
              "    20% {\n",
              "      border-color: transparent;\n",
              "      border-left-color: var(--fill-color);\n",
              "      border-top-color: var(--fill-color);\n",
              "    }\n",
              "    30% {\n",
              "      border-color: transparent;\n",
              "      border-left-color: var(--fill-color);\n",
              "      border-top-color: var(--fill-color);\n",
              "      border-right-color: var(--fill-color);\n",
              "    }\n",
              "    40% {\n",
              "      border-color: transparent;\n",
              "      border-right-color: var(--fill-color);\n",
              "      border-top-color: var(--fill-color);\n",
              "    }\n",
              "    60% {\n",
              "      border-color: transparent;\n",
              "      border-right-color: var(--fill-color);\n",
              "    }\n",
              "    80% {\n",
              "      border-color: transparent;\n",
              "      border-right-color: var(--fill-color);\n",
              "      border-bottom-color: var(--fill-color);\n",
              "    }\n",
              "    90% {\n",
              "      border-color: transparent;\n",
              "      border-bottom-color: var(--fill-color);\n",
              "    }\n",
              "  }\n",
              "</style>\n",
              "\n",
              "      <script>\n",
              "        async function quickchart(key) {\n",
              "          const quickchartButtonEl =\n",
              "            document.querySelector('#' + key + ' button');\n",
              "          quickchartButtonEl.disabled = true;  // To prevent multiple clicks.\n",
              "          quickchartButtonEl.classList.add('colab-df-spinner');\n",
              "          try {\n",
              "            const charts = await google.colab.kernel.invokeFunction(\n",
              "                'suggestCharts', [key], {});\n",
              "          } catch (error) {\n",
              "            console.error('Error during call to suggestCharts:', error);\n",
              "          }\n",
              "          quickchartButtonEl.classList.remove('colab-df-spinner');\n",
              "          quickchartButtonEl.classList.add('colab-df-quickchart-complete');\n",
              "        }\n",
              "        (() => {\n",
              "          let quickchartButtonEl =\n",
              "            document.querySelector('#df-d94c0a4a-584e-46ad-abd6-772f18638cb2 button');\n",
              "          quickchartButtonEl.style.display =\n",
              "            google.colab.kernel.accessAllowed ? 'block' : 'none';\n",
              "        })();\n",
              "      </script>\n",
              "    </div>\n",
              "\n",
              "    </div>\n",
              "  </div>\n"
            ],
            "application/vnd.google.colaboratory.intrinsic+json": {
              "type": "dataframe",
              "variable_name": "df",
              "summary": "{\n  \"name\": \"df\",\n  \"rows\": 1338,\n  \"fields\": [\n    {\n      \"column\": \"age\",\n      \"properties\": {\n        \"dtype\": \"number\",\n        \"std\": 14,\n        \"min\": 18,\n        \"max\": 64,\n        \"num_unique_values\": 47,\n        \"samples\": [\n          21,\n          45,\n          36\n        ],\n        \"semantic_type\": \"\",\n        \"description\": \"\"\n      }\n    },\n    {\n      \"column\": \"sex\",\n      \"properties\": {\n        \"dtype\": \"category\",\n        \"num_unique_values\": 2,\n        \"samples\": [\n          \"male\",\n          \"female\"\n        ],\n        \"semantic_type\": \"\",\n        \"description\": \"\"\n      }\n    },\n    {\n      \"column\": \"bmi\",\n      \"properties\": {\n        \"dtype\": \"number\",\n        \"std\": 6.098382190003366,\n        \"min\": 16.0,\n        \"max\": 53.1,\n        \"num_unique_values\": 275,\n        \"samples\": [\n          28.6,\n          20.9\n        ],\n        \"semantic_type\": \"\",\n        \"description\": \"\"\n      }\n    },\n    {\n      \"column\": \"children\",\n      \"properties\": {\n        \"dtype\": \"number\",\n        \"std\": 1,\n        \"min\": 0,\n        \"max\": 5,\n        \"num_unique_values\": 6,\n        \"samples\": [\n          0,\n          1\n        ],\n        \"semantic_type\": \"\",\n        \"description\": \"\"\n      }\n    },\n    {\n      \"column\": \"smoker\",\n      \"properties\": {\n        \"dtype\": \"category\",\n        \"num_unique_values\": 2,\n        \"samples\": [\n          \"no\",\n          \"yes\"\n        ],\n        \"semantic_type\": \"\",\n        \"description\": \"\"\n      }\n    },\n    {\n      \"column\": \"region\",\n      \"properties\": {\n        \"dtype\": \"category\",\n        \"num_unique_values\": 4,\n        \"samples\": [\n          \"southeast\",\n          \"northeast\"\n        ],\n        \"semantic_type\": \"\",\n        \"description\": \"\"\n      }\n    },\n    {\n      \"column\": \"expenses\",\n      \"properties\": {\n        \"dtype\": \"number\",\n        \"std\": 12110.011239706457,\n        \"min\": 1121.87,\n        \"max\": 63770.43,\n        \"num_unique_values\": 1337,\n        \"samples\": [\n          8688.86,\n          5708.87\n        ],\n        \"semantic_type\": \"\",\n        \"description\": \"\"\n      }\n    }\n  ]\n}"
            }
          },
          "metadata": {},
          "execution_count": 5
        }
      ],
      "source": [
        "df.head()"
      ]
    },
    {
      "cell_type": "markdown",
      "id": "5b386a64",
      "metadata": {
        "id": "5b386a64"
      },
      "source": [
        "### Preprocessing"
      ]
    },
    {
      "cell_type": "code",
      "execution_count": 6,
      "id": "0816641a",
      "metadata": {
        "id": "0816641a"
      },
      "outputs": [],
      "source": [
        "# Obtaining list of numeric columns and of categorical columns\n",
        "numeric_columns = df.select_dtypes(include=np.number).columns.tolist()\n",
        "cat_columns = df.select_dtypes(include= object).columns.tolist()\n",
        "numeric_columns.remove('expenses')"
      ]
    },
    {
      "cell_type": "code",
      "execution_count": 7,
      "id": "a809893c",
      "metadata": {
        "colab": {
          "base_uri": "https://localhost:8080/"
        },
        "id": "a809893c",
        "outputId": "89d3f182-c2a8-48c3-de87-8011cbf843e1"
      },
      "outputs": [
        {
          "output_type": "stream",
          "name": "stdout",
          "text": [
            "{'female': np.int64(0), 'male': np.int64(1)}\n",
            "{'no': np.int64(0), 'yes': np.int64(1)}\n",
            "{'northeast': np.int64(0), 'northwest': np.int64(1), 'southeast': np.int64(2), 'southwest': np.int64(3)}\n"
          ]
        }
      ],
      "source": [
        "from sklearn.preprocessing import LabelEncoder\n",
        "\n",
        "for col in cat_columns:\n",
        "\n",
        "    le = LabelEncoder()\n",
        "    df[col] = le.fit_transform(df[col],)\n",
        "    le_name_mapping = dict(zip(le.classes_, le.transform(le.classes_)))\n",
        "    print(le_name_mapping)"
      ]
    },
    {
      "cell_type": "code",
      "execution_count": 8,
      "id": "f97bc3eb",
      "metadata": {
        "id": "f97bc3eb"
      },
      "outputs": [],
      "source": [
        "# Performing normalization on all numeric columns\n",
        "\n",
        "from sklearn.preprocessing import MinMaxScaler\n",
        "\n",
        "scaler_age = MinMaxScaler()\n",
        "df['age'] = scaler_age.fit_transform(df['age'].to_numpy().reshape(-1, 1))\n",
        "\n",
        "scaler_bmi = MinMaxScaler()\n",
        "df['bmi'] = scaler_bmi.fit_transform(df['bmi'].to_numpy().reshape(-1, 1))\n",
        "\n",
        "scaler_children = MinMaxScaler()\n",
        "df['children'] = scaler_children.fit_transform(df['children'].to_numpy().reshape(-1, 1))"
      ]
    },
    {
      "cell_type": "markdown",
      "id": "b1c179af",
      "metadata": {
        "id": "b1c179af"
      },
      "source": [
        "### Modelling"
      ]
    },
    {
      "cell_type": "code",
      "execution_count": 9,
      "id": "d7127466",
      "metadata": {
        "colab": {
          "base_uri": "https://localhost:8080/"
        },
        "id": "d7127466",
        "outputId": "a7642a23-30f9-45d5-a310-9c89b15d7b80"
      },
      "outputs": [
        {
          "output_type": "stream",
          "name": "stdout",
          "text": [
            "Linear Regression - Train - MSE: 37749430.5017, MAE: 4251.2193, r2-score: 0.7423\n",
            "Gradient Boosting Regression Train - MSE: 14385421.0301, MAE: 2099.2990, r2-score: 0.9018\n",
            "XGBoost Regressor Train - MSE: 529622.6415, MAE: 434.5469, r2-score: 0.9964\n",
            "\n",
            "Linear Regression - Test - MSE: 33802383.5549, MAE: 4154.7004, r2-score: 0.7695\n",
            "Gradient Boosting Regression - Test - MSE: 19854401.1184, MAE: 2514.8970, r2-score: 0.8645899765708828\n",
            "XGBoost Regressor - Test - MSE: 26176911.8287, MAE: 2909.2587, r2-score: 0.8214694957107828\n"
          ]
        }
      ],
      "source": [
        "from sklearn.model_selection import train_test_split\n",
        "from sklearn.linear_model import LinearRegression\n",
        "from xgboost import XGBRegressor\n",
        "from sklearn.ensemble import GradientBoostingRegressor\n",
        "from sklearn.metrics import mean_squared_error, mean_absolute_error, r2_score\n",
        "\n",
        "# Split data into features (X) and target (y)\n",
        "X = df.drop(columns=[\"expenses\"])\n",
        "y = df[\"expenses\"]\n",
        "\n",
        "# Split data into train and test sets\n",
        "X_train, X_test, y_train, y_test = train_test_split(X, y, test_size=0.3, random_state=42)\n",
        "\n",
        "# Initialize models\n",
        "linear_reg = LinearRegression()\n",
        "\n",
        "boosting_reg = GradientBoostingRegressor()\n",
        "xgb_reg = XGBRegressor()\n",
        "\n",
        "# Fit models to training data\n",
        "linear_reg.fit(X_train, y_train)\n",
        "\n",
        "boosting_reg.fit(X_train, y_train)\n",
        "xgb_reg.fit(X_train, y_train)\n",
        "\n",
        "# Predictions on train data\n",
        "y_train_pred_linear = linear_reg.predict(X_train)\n",
        "\n",
        "y_train_pred_boosting = boosting_reg.predict(X_train)\n",
        "y_train_pred_xgb= xgb_reg.predict(X_train)\n",
        "\n",
        "# Predictions on test data\n",
        "y_pred_linear = linear_reg.predict(X_test)\n",
        "\\\n",
        "y_pred_boosting = boosting_reg.predict(X_test)\n",
        "y_pred_xgb = xgb_reg.predict(X_test)\n",
        "\n",
        "\n",
        "# Evaluate performance on Linear Regression model\n",
        "mse_linear = mean_squared_error(y_test, y_pred_linear)\n",
        "mae_linear = mean_absolute_error(y_test, y_pred_linear)\n",
        "r2_linear = r2_score(y_test, y_pred_linear)\n",
        "\n",
        "\n",
        "mse_linear_train = mean_squared_error(y_train, y_train_pred_linear)\n",
        "mae_linear_train = mean_absolute_error(y_train, y_train_pred_linear)\n",
        "r2_linear_train = r2_score(y_train, y_train_pred_linear)\n",
        "\n",
        "\n",
        "\n",
        "# Evaluate performance on Gradient Boosting Model\n",
        "mse_boosting = mean_squared_error(y_test, y_pred_boosting)\n",
        "mae_boosting = mean_absolute_error(y_test, y_pred_boosting)\n",
        "r2_boosting = r2_score(y_test, y_pred_boosting)\n",
        "\n",
        "mse_boosting_train = mean_squared_error(y_train, y_train_pred_boosting)\n",
        "mae_boosting_train = mean_absolute_error(y_train, y_train_pred_boosting)\n",
        "r2_boosting_train = r2_score(y_train, y_train_pred_boosting)\n",
        "\n",
        "# Evaluate performance on XGBoost Model\n",
        "mse_xgb = mean_squared_error(y_test, y_pred_xgb)\n",
        "mae_xgb= mean_absolute_error(y_test, y_pred_xgb)\n",
        "r2_xgb= r2_score(y_test, y_pred_xgb)\n",
        "\n",
        "mse_xgb_train = mean_squared_error(y_train, y_train_pred_xgb)\n",
        "mae_xgb_train = mean_absolute_error(y_train, y_train_pred_xgb)\n",
        "r2_xgb_train = r2_score(y_train, y_train_pred_xgb)\n",
        "\n",
        "print(f\"Linear Regression - Train - MSE: {mse_linear_train:.4f}, MAE: {mae_linear_train:.4f}, r2-score: {r2_linear_train:.4f}\")\n",
        "\n",
        "print(f\"Gradient Boosting Regression Train - MSE: {mse_boosting_train:.4f}, MAE: {mae_boosting_train:.4f}, r2-score: {r2_boosting_train:.4f}\")\n",
        "print(f\"XGBoost Regressor Train - MSE: {mse_xgb_train:.4f}, MAE: {mae_xgb_train:.4f}, r2-score: {r2_xgb_train:.4f}\")\n",
        "print()\n",
        "print(f\"Linear Regression - Test - MSE: {mse_linear:.4f}, MAE: {mae_linear:.4f}, r2-score: {r2_linear:.4f}\")\n",
        "print(f\"Gradient Boosting Regression - Test - MSE: {mse_boosting:.4f}, MAE: {mae_boosting:.4f}, r2-score: {r2_boosting}\")\n",
        "print(f\"XGBoost Regressor - Test - MSE: {mse_xgb:.4f}, MAE: {mae_xgb:.4f}, r2-score: {r2_xgb}\")"
      ]
    },
    {
      "cell_type": "markdown",
      "id": "d4befeae-addb-44e4-8350-bd4548a5b032",
      "metadata": {
        "id": "d4befeae-addb-44e4-8350-bd4548a5b032"
      },
      "source": [
        "### Hyperparameter Tuning using GridSearch"
      ]
    },
    {
      "cell_type": "code",
      "execution_count": 10,
      "id": "cfa02467",
      "metadata": {
        "colab": {
          "base_uri": "https://localhost:8080/"
        },
        "id": "cfa02467",
        "outputId": "d13010c6-c733-4379-c396-f78663853c05"
      },
      "outputs": [
        {
          "output_type": "stream",
          "name": "stdout",
          "text": [
            "Best parameters: {'learning_rate': 0.01, 'max_depth': 5, 'n_estimators': 300, 'subsample': 0.6}\n",
            "Best Negative Mean Squared Error -23068741.4292893\n"
          ]
        }
      ],
      "source": [
        "# Fine tuning XGBoost Regressor\n",
        "from sklearn.model_selection import GridSearchCV\n",
        "\n",
        "param_grid =  {'max_depth': [5,10, 15, 20, 25, 30],'learning_rate':[0.001, 0.01, 0.1, 0.5], 'n_estimators': [100,150,200, 250, 300], 'subsample': [0.6, 0.7, 0.8] }\n",
        "\n",
        "gbr = XGBRegressor(objective='reg:squarederror', random_state=42)\n",
        "\n",
        "grid_search = GridSearchCV(estimator=gbr, param_grid=param_grid, scoring= 'neg_mean_squared_error', cv=5, n_jobs=-1)\n",
        "grid_search.fit(X_train, y_train)\n",
        "\n",
        "print(\"Best parameters:\", grid_search.best_params_)\n",
        "print(\"Best Negative Mean Squared Error\", grid_search.best_score_)"
      ]
    },
    {
      "cell_type": "markdown",
      "id": "5016db8d",
      "metadata": {
        "id": "5016db8d"
      },
      "source": []
    },
    {
      "cell_type": "code",
      "execution_count": 11,
      "id": "75c673b2",
      "metadata": {
        "id": "75c673b2"
      },
      "outputs": [],
      "source": [
        "best_params = grid_search.best_params_\n",
        "\n",
        "best_params['random_state'] = 42"
      ]
    },
    {
      "cell_type": "code",
      "execution_count": 12,
      "id": "1ff4bcf5",
      "metadata": {
        "id": "1ff4bcf5",
        "colab": {
          "base_uri": "https://localhost:8080/"
        },
        "outputId": "38053d26-0bfd-43fa-d76f-2ec03e5c6ca3"
      },
      "outputs": [
        {
          "output_type": "stream",
          "name": "stdout",
          "text": [
            "Best XGBoost Regressor Train - MSE: 14398094.6348, MAE: 2241.2945, R2_score: 0.9017\n",
            "Best XGBoost Regressor - Test - MSE: 18835527.2565, MAE: 2523.1229, R2_score: 0.8715\n"
          ]
        }
      ],
      "source": [
        "xgb_reg_best = XGBRegressor(**best_params)\n",
        "\n",
        "xgb_reg_best.fit(X_train, y_train)\n",
        "\n",
        "y_pred_xgb_best = xgb_reg_best.predict(X_test)\n",
        "\n",
        "mse_xgb_best = mean_squared_error(y_test, y_pred_xgb_best)\n",
        "mae_xgb_best = mean_absolute_error(y_test, y_pred_xgb_best)\n",
        "r2_xgb_best = r2_score(y_test, y_pred_xgb_best)\n",
        "\n",
        "y_train_pred_xgb_best = xgb_reg_best.predict(X_train)\n",
        "\n",
        "mse_xgb_train_best = mean_squared_error(y_train, y_train_pred_xgb_best)\n",
        "mae_xgb_train_best = mean_absolute_error(y_train, y_train_pred_xgb_best)\n",
        "r2_xgb_train_best = r2_score(y_train, y_train_pred_xgb_best)\n",
        "\n",
        "print(f\"Best XGBoost Regressor Train - MSE: {mse_xgb_train_best:.4f}, MAE: {mae_xgb_train_best:.4f}, R2_score: {r2_xgb_train_best:.4f}\")\n",
        "\n",
        "print(f\"Best XGBoost Regressor - Test - MSE: {mse_xgb_best:.4f}, MAE: {mae_xgb_best:.4f}, R2_score: {r2_xgb_best:.4f}\")"
      ]
    },
    {
      "cell_type": "markdown",
      "id": "8872c603",
      "metadata": {
        "id": "8872c603"
      },
      "source": [
        "#### Saving Best Performing Model"
      ]
    },
    {
      "cell_type": "code",
      "execution_count": 13,
      "id": "dd8b5dc2",
      "metadata": {
        "id": "dd8b5dc2",
        "colab": {
          "base_uri": "https://localhost:8080/"
        },
        "outputId": "c7bca7cb-eed2-4f45-98c6-39d323e2bd7a"
      },
      "outputs": [
        {
          "output_type": "stream",
          "name": "stdout",
          "text": [
            "Model saved as xgb_reg_model_best.pkl\n"
          ]
        }
      ],
      "source": [
        "import joblib\n",
        "\n",
        "# Save the model\n",
        "model_filename = \"xgb_reg_model_best.pkl\"\n",
        "joblib.dump(xgb_reg_best, model_filename)\n",
        "print(f\"Model saved as {model_filename}\")"
      ]
    },
    {
      "cell_type": "markdown",
      "id": "cfca295d",
      "metadata": {
        "id": "cfca295d"
      },
      "source": [
        "#### Getting predictions for new unseen data."
      ]
    },
    {
      "cell_type": "code",
      "execution_count": 14,
      "id": "a5147192",
      "metadata": {
        "id": "a5147192",
        "colab": {
          "base_uri": "https://localhost:8080/"
        },
        "outputId": "ebc836fe-0dc7-4f90-bb41-2ef715a1a985"
      },
      "outputs": [
        {
          "output_type": "stream",
          "name": "stdout",
          "text": [
            "Enter age: 34\n",
            "Enter sex (0 for female, 1 for male): 1\n",
            "Enter BMI: 22\n",
            "Enter number of children: 2\n",
            "Enter smoker status (0 for no, 1 for yes): 1\n",
            "Enter region (0 for northeast, 1 for northwest, 2 for southeast, 3 for southwest): 2\n",
            "Predicted expenses: $17793.15\n"
          ]
        }
      ],
      "source": [
        "# Load the model\n",
        "loaded_model = joblib.load(\"xgb_reg_model_best.pkl\")\n",
        "\n",
        "# Take user input (features) for prediction\n",
        "user_input = {\n",
        "    \"age\": float(input(\"Enter age: \")),\n",
        "    \"sex\": int(input(\"Enter sex (0 for female, 1 for male): \")),\n",
        "    \"bmi\": float(input(\"Enter BMI: \")),\n",
        "    \"children\": int(input(\"Enter number of children: \")),\n",
        "    \"smoker\": int(input(\"Enter smoker status (0 for no, 1 for yes): \")),\n",
        "    \"region\": int(input(\"Enter region (0 for northeast, 1 for northwest, 2 for southeast, 3 for southwest): \"))\n",
        "}\n",
        "\n",
        "# Convert user input to a DataFrame\n",
        "user_df = pd.DataFrame([user_input])\n",
        "\n",
        "# Normalize numerical columns\n",
        "\n",
        "user_df['age'] = scaler_age.transform(user_df['age'].to_numpy().reshape(-1, 1))\n",
        "\n",
        "user_df['bmi'] = scaler_bmi.transform(user_df['bmi'].to_numpy().reshape(-1, 1))\n",
        "\n",
        "user_df['children'] = scaler_children.transform(user_df['children'].to_numpy().reshape(-1, 1))\n",
        "\n",
        "# Make predictions\n",
        "predicted_expenses = xgb_reg_best.predict(user_df)\n",
        "print(f\"Predicted expenses: ${predicted_expenses[0]:.2f}\")"
      ]
    }
  ],
  "metadata": {
    "colab": {
      "provenance": []
    },
    "kernelspec": {
      "display_name": "Python 3 (ipykernel)",
      "language": "python",
      "name": "python3"
    },
    "language_info": {
      "codemirror_mode": {
        "name": "ipython",
        "version": 3
      },
      "file_extension": ".py",
      "mimetype": "text/x-python",
      "name": "python",
      "nbconvert_exporter": "python",
      "pygments_lexer": "ipython3",
      "version": "3.13.3"
    }
  },
  "nbformat": 4,
  "nbformat_minor": 5
}