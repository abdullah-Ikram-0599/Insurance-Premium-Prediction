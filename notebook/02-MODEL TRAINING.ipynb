{
 "cells": [
  {
   "cell_type": "markdown",
   "id": "86960d4b",
   "metadata": {},
   "source": [
    "### Model Training"
   ]
  },
  {
   "cell_type": "markdown",
   "id": "b45eda30",
   "metadata": {},
   "source": [
    "#### Importing Pandas, Numpy, Matplotlib, Seaborn and Warings Library."
   ]
  },
  {
   "cell_type": "code",
   "execution_count": 1,
   "id": "41dbf1ac",
   "metadata": {},
   "outputs": [],
   "source": [
    "# Basic Import\n",
    "import numpy as np\n",
    "import pandas as pd\n",
    "import matplotlib.pyplot as plt \n",
    "import seaborn as sns"
   ]
  },
  {
   "cell_type": "markdown",
   "id": "0efad062",
   "metadata": {},
   "source": [
    "#### Import the CSV Data as Pandas DataFrame"
   ]
  },
  {
   "cell_type": "code",
   "execution_count": 13,
   "id": "05b66b24",
   "metadata": {},
   "outputs": [],
   "source": [
    "df = pd.read_csv(\"C:/Users/91999/Desktop/VSCode/Insurance-Premium-Prediction/notebook/data/insurance.csv\")"
   ]
  },
  {
   "cell_type": "markdown",
   "id": "9c613ad2",
   "metadata": {},
   "source": [
    "#### Show Top 5 Records"
   ]
  },
  {
   "cell_type": "code",
   "execution_count": 14,
   "id": "0e9d61c1",
   "metadata": {},
   "outputs": [
    {
     "data": {
      "text/html": [
       "<div>\n",
       "<style scoped>\n",
       "    .dataframe tbody tr th:only-of-type {\n",
       "        vertical-align: middle;\n",
       "    }\n",
       "\n",
       "    .dataframe tbody tr th {\n",
       "        vertical-align: top;\n",
       "    }\n",
       "\n",
       "    .dataframe thead th {\n",
       "        text-align: right;\n",
       "    }\n",
       "</style>\n",
       "<table border=\"1\" class=\"dataframe\">\n",
       "  <thead>\n",
       "    <tr style=\"text-align: right;\">\n",
       "      <th></th>\n",
       "      <th>age</th>\n",
       "      <th>sex</th>\n",
       "      <th>bmi</th>\n",
       "      <th>children</th>\n",
       "      <th>smoker</th>\n",
       "      <th>region</th>\n",
       "      <th>expenses</th>\n",
       "    </tr>\n",
       "  </thead>\n",
       "  <tbody>\n",
       "    <tr>\n",
       "      <th>0</th>\n",
       "      <td>19</td>\n",
       "      <td>female</td>\n",
       "      <td>27.9</td>\n",
       "      <td>0</td>\n",
       "      <td>yes</td>\n",
       "      <td>southwest</td>\n",
       "      <td>16884.92</td>\n",
       "    </tr>\n",
       "    <tr>\n",
       "      <th>1</th>\n",
       "      <td>18</td>\n",
       "      <td>male</td>\n",
       "      <td>33.8</td>\n",
       "      <td>1</td>\n",
       "      <td>no</td>\n",
       "      <td>southeast</td>\n",
       "      <td>1725.55</td>\n",
       "    </tr>\n",
       "    <tr>\n",
       "      <th>2</th>\n",
       "      <td>28</td>\n",
       "      <td>male</td>\n",
       "      <td>33.0</td>\n",
       "      <td>3</td>\n",
       "      <td>no</td>\n",
       "      <td>southeast</td>\n",
       "      <td>4449.46</td>\n",
       "    </tr>\n",
       "    <tr>\n",
       "      <th>3</th>\n",
       "      <td>33</td>\n",
       "      <td>male</td>\n",
       "      <td>22.7</td>\n",
       "      <td>0</td>\n",
       "      <td>no</td>\n",
       "      <td>northwest</td>\n",
       "      <td>21984.47</td>\n",
       "    </tr>\n",
       "    <tr>\n",
       "      <th>4</th>\n",
       "      <td>32</td>\n",
       "      <td>male</td>\n",
       "      <td>28.9</td>\n",
       "      <td>0</td>\n",
       "      <td>no</td>\n",
       "      <td>northwest</td>\n",
       "      <td>3866.86</td>\n",
       "    </tr>\n",
       "  </tbody>\n",
       "</table>\n",
       "</div>"
      ],
      "text/plain": [
       "   age     sex   bmi  children smoker     region  expenses\n",
       "0   19  female  27.9         0    yes  southwest  16884.92\n",
       "1   18    male  33.8         1     no  southeast   1725.55\n",
       "2   28    male  33.0         3     no  southeast   4449.46\n",
       "3   33    male  22.7         0     no  northwest  21984.47\n",
       "4   32    male  28.9         0     no  northwest   3866.86"
      ]
     },
     "execution_count": 14,
     "metadata": {},
     "output_type": "execute_result"
    }
   ],
   "source": [
    "df.head()"
   ]
  },
  {
   "cell_type": "markdown",
   "id": "5b386a64",
   "metadata": {},
   "source": [
    "### Preprocessing"
   ]
  },
  {
   "cell_type": "code",
   "execution_count": 4,
   "id": "0816641a",
   "metadata": {},
   "outputs": [],
   "source": [
    "# Obtaining list of numeric columns and of categorical columns\n",
    "numeric_columns = df.select_dtypes(include=np.number).columns.tolist()\n",
    "cat_columns = df.select_dtypes(include= object).columns.tolist()\n",
    "numeric_columns.remove('expenses')"
   ]
  },
  {
   "cell_type": "code",
   "execution_count": 5,
   "id": "a809893c",
   "metadata": {},
   "outputs": [
    {
     "name": "stdout",
     "output_type": "stream",
     "text": [
      "{'female': 0, 'male': 1}\n",
      "{'no': 0, 'yes': 1}\n",
      "{'northeast': 0, 'northwest': 1, 'southeast': 2, 'southwest': 3}\n"
     ]
    }
   ],
   "source": [
    "from sklearn.preprocessing import LabelEncoder\n",
    "\n",
    "for col in cat_columns:\n",
    "    \n",
    "    le = LabelEncoder()\n",
    "    df[col] = le.fit_transform(df[col],)\n",
    "    le_name_mapping = dict(zip(le.classes_, le.transform(le.classes_)))\n",
    "    print(le_name_mapping)"
   ]
  },
  {
   "cell_type": "code",
   "execution_count": 6,
   "id": "f97bc3eb",
   "metadata": {},
   "outputs": [],
   "source": [
    "# Performing normalization on all numeric columns\n",
    "\n",
    "from sklearn.preprocessing import MinMaxScaler\n",
    "\n",
    "scaler_age = MinMaxScaler()\n",
    "df['age'] = scaler_age.fit_transform(df['age'].to_numpy().reshape(-1, 1))\n",
    "\n",
    "scaler_bmi = MinMaxScaler()\n",
    "df['bmi'] = scaler_bmi.fit_transform(df['bmi'].to_numpy().reshape(-1, 1))\n",
    "\n",
    "scaler_children = MinMaxScaler()\n",
    "df['children'] = scaler_children.fit_transform(df['children'].to_numpy().reshape(-1, 1))"
   ]
  },
  {
   "cell_type": "markdown",
   "id": "b1c179af",
   "metadata": {},
   "source": [
    "### Modelling"
   ]
  },
  {
   "cell_type": "code",
   "execution_count": 7,
   "id": "d7127466",
   "metadata": {},
   "outputs": [
    {
     "name": "stdout",
     "output_type": "stream",
     "text": [
      "Linear Regression - Train - MSE: 37749430.5017, MAE: 4251.2193\n",
      "Decision Tree Regression Train - MSE: 0.0000, MAE: 0.0000\n",
      "Gradient Boosting Regression Train - MSE: 14385421.0301, MAE: 2099.2990\n",
      "\n",
      "Linear Regression - Test - MSE: 33802383.5549, MAE: 4154.7004\n",
      "Decision Tree Regression - Test - MSE: 41743394.7115, MAE: 2943.5257\n",
      "Gradient Boosting Regression - Test - MSE: 19911832.1148, MAE: 2524.5173\n"
     ]
    }
   ],
   "source": [
    "from sklearn.model_selection import train_test_split\n",
    "from sklearn.linear_model import LinearRegression\n",
    "from sklearn.tree import DecisionTreeRegressor\n",
    "from sklearn.ensemble import GradientBoostingRegressor\n",
    "from sklearn.metrics import mean_squared_error, mean_absolute_error, r2_score\n",
    "\n",
    "# Split data into features (X) and target (y)\n",
    "X = df.drop(columns=[\"expenses\"])  # Replace \"target_column\" with your actual target column\n",
    "y = df[\"expenses\"]\n",
    "\n",
    "# Split data into train and test sets\n",
    "X_train, X_test, y_train, y_test = train_test_split(X, y, test_size=0.3, random_state=42)\n",
    "\n",
    "# Initialize models\n",
    "linear_reg = LinearRegression()\n",
    "tree_reg = DecisionTreeRegressor()\n",
    "boosting_reg = GradientBoostingRegressor()\n",
    "\n",
    "# Fit models to training data\n",
    "linear_reg.fit(X_train, y_train)\n",
    "tree_reg.fit(X_train, y_train)\n",
    "boosting_reg.fit(X_train, y_train)\n",
    "\n",
    "# Predictions on train data\n",
    "y_train_pred_linear = linear_reg.predict(X_train)\n",
    "y_train_pred_tree = tree_reg.predict(X_train)\n",
    "y_train_pred_boosting = boosting_reg.predict(X_train)\n",
    "\n",
    "\n",
    "# Predictions on test data\n",
    "y_pred_linear = linear_reg.predict(X_test)\n",
    "y_pred_tree = tree_reg.predict(X_test)\n",
    "y_pred_boosting = boosting_reg.predict(X_test)\n",
    "\n",
    "# Evaluate performance on Linear Regression model\n",
    "mse_linear = mean_squared_error(y_test, y_pred_linear)\n",
    "mae_linear = mean_absolute_error(y_test, y_pred_linear)\n",
    "\n",
    "mse_linear_train = mean_squared_error(y_train, y_train_pred_linear)\n",
    "mae_linear_train = mean_absolute_error(y_train, y_train_pred_linear)\n",
    "\n",
    "# Evaluate performance on Decision Tree Model\n",
    "mse_tree = mean_squared_error(y_test, y_pred_tree)\n",
    "mae_tree = mean_absolute_error(y_test, y_pred_tree)\n",
    "\n",
    "mse_tree_train = mean_squared_error(y_train, y_train_pred_tree)\n",
    "mae_tree_train = mean_absolute_error(y_train, y_train_pred_tree)\n",
    "\n",
    "# Evaluate performance on Gradient Boosting Model\n",
    "mse_boosting = mean_squared_error(y_test, y_pred_boosting)\n",
    "mae_boosting = mean_absolute_error(y_test, y_pred_boosting)\n",
    "\n",
    "mse_boosting_train = mean_squared_error(y_train, y_train_pred_boosting)\n",
    "mae_boosting_train = mean_absolute_error(y_train, y_train_pred_boosting)\n",
    "\n",
    "\n",
    "print(f\"Linear Regression - Train - MSE: {mse_linear_train:.4f}, MAE: {mae_linear_train:.4f}\")\n",
    "print(f\"Decision Tree Regression Train - MSE: {mse_tree_train:.4f}, MAE: {mae_tree_train:.4f}\")\n",
    "print(f\"Gradient Boosting Regression Train - MSE: {mse_boosting_train:.4f}, MAE: {mae_boosting_train:.4f}\")\n",
    "print(\"\")\n",
    "print(f\"Linear Regression - Test - MSE: {mse_linear:.4f}, MAE: {mae_linear:.4f}\")\n",
    "print(f\"Decision Tree Regression - Test - MSE: {mse_tree:.4f}, MAE: {mae_tree:.4f}\")\n",
    "print(f\"Gradient Boosting Regression - Test - MSE: {mse_boosting:.4f}, MAE: {mae_boosting:.4f}\")"
   ]
  },
  {
   "cell_type": "markdown",
   "id": "2db70f8e",
   "metadata": {},
   "source": [
    "### Hyperparameter Tuning using GridSearch"
   ]
  },
  {
   "cell_type": "code",
   "execution_count": 8,
   "id": "cfa02467",
   "metadata": {},
   "outputs": [
    {
     "name": "stdout",
     "output_type": "stream",
     "text": [
      "Best parameters: {'learning_rate': 0.01, 'max_depth': 5, 'n_estimators': 300, 'subsample': 0.6}\n",
      "Best negative MSE score: -23679971.247744087\n"
     ]
    }
   ],
   "source": [
    "# Fine tuning Gradient Boositng Regressor\n",
    "from sklearn.model_selection import GridSearchCV\n",
    "from xgboost import XGBRegressor\n",
    "param_grid =  {'max_depth': [5,10, 15, 20, 25, 30],'learning_rate':[0.001, 0.01, 0.1, 0.5], 'n_estimators': [100,150,200, 250, 300], 'subsample': [0.6, 0.7, 0.8] }\n",
    "\n",
    "gbr = XGBRegressor(objective='reg:squarederror', random_state=42)\n",
    "\n",
    "grid_search = GridSearchCV(estimator=gbr, param_grid=param_grid, scoring='neg_mean_squared_error', cv=5, n_jobs=-1)\n",
    "grid_search.fit(X_train, y_train)\n",
    "\n",
    "print(\"Best parameters:\", grid_search.best_params_)\n",
    "print(\"Best negative MSE score:\", grid_search.best_score_)"
   ]
  },
  {
   "cell_type": "code",
   "execution_count": 9,
   "id": "75c673b2",
   "metadata": {},
   "outputs": [],
   "source": [
    "best_params = grid_search.best_params_\n",
    "\n",
    "best_params['objective'] = 'reg:squarederror'\n",
    "\n",
    "best_params['random_state'] = 42"
   ]
  },
  {
   "cell_type": "code",
   "execution_count": 10,
   "id": "1ff4bcf5",
   "metadata": {},
   "outputs": [
    {
     "name": "stdout",
     "output_type": "stream",
     "text": [
      "Best Gradient Boosting Regression Train - MSE: 15484631.4151, MAE: 1975.4561, R2_score: 0.8943\n",
      "Best Gradient Boosting Regression - Test - MSE: 18834723.7576, MAE: 2098.2237, R2_score: 0.8715\n"
     ]
    }
   ],
   "source": [
    "boosting_reg_best = XGBRegressor(**best_params)\n",
    "\n",
    "boosting_reg_best.fit(X_train, y_train)\n",
    "\n",
    "y_pred_boosting_best = boosting_reg_best.predict(X_test)\n",
    "\n",
    "mse_boosting_best = mean_squared_error(y_test, y_pred_boosting_best)\n",
    "mae_boosting_best = mean_absolute_error(y_test, y_pred_boosting_best)\n",
    "r2_boosting_best = r2_score(y_test, y_pred_boosting_best)\n",
    "\n",
    "y_train_pred_boosting_best = boosting_reg_best.predict(X_train)\n",
    "\n",
    "mse_boosting_train_best = mean_squared_error(y_train, y_train_pred_boosting_best)\n",
    "mae_boosting_train_best = mean_absolute_error(y_train, y_train_pred_boosting_best)\n",
    "r2_boosting_train_best = r2_score(y_train, y_train_pred_boosting_best) \n",
    "\n",
    "print(f\"Best Gradient Boosting Regression Train - MSE: {mse_boosting_train_best:.4f}, MAE: {mae_boosting_train_best:.4f}, R2_score: {r2_boosting_train_best:.4f}\")\n",
    "                                 \n",
    "print(f\"Best Gradient Boosting Regression - Test - MSE: {mse_boosting_best:.4f}, MAE: {mae_boosting_best:.4f}, R2_score: {r2_boosting_best:.4f}\") "
   ]
  },
  {
   "cell_type": "markdown",
   "id": "cfca295d",
   "metadata": {},
   "source": [
    "### Getting predictions for new unseen data."
   ]
  },
  {
   "cell_type": "code",
   "execution_count": 11,
   "id": "95741aff",
   "metadata": {},
   "outputs": [
    {
     "name": "stdout",
     "output_type": "stream",
     "text": [
      "Model saved as boosting_reg_model_best.pkl\n"
     ]
    }
   ],
   "source": [
    "import joblib\n",
    "\n",
    "# Save the model\n",
    "model_filename = \"boosting_reg_model_best.pkl\"\n",
    "# joblib.dump(boosting_reg_best, model_filename)\n",
    "print(f\"Model saved as {model_filename}\")"
   ]
  },
  {
   "cell_type": "code",
   "execution_count": 12,
   "id": "a5147192",
   "metadata": {},
   "outputs": [
    {
     "name": "stdout",
     "output_type": "stream",
     "text": [
      "Enter age: 19\n",
      "Enter sex (0 for female, 1 for male): 0\n",
      "Enter BMI: 27.9\n",
      "Enter number of children: 0\n",
      "Enter smoker status (0 for no, 1 for yes): 1\n",
      "Enter region (0 for northeast, 1 for northwest, 2 for southeast, 3 for southwest): 3\n",
      "Predicted expenses: $16753.32\n"
     ]
    }
   ],
   "source": [
    "# Load the model\n",
    "loaded_model = joblib.load(\"boosting_reg_model_best.pkl\")\n",
    "\n",
    "# Take user input (features) for prediction\n",
    "user_input = {\n",
    "    \"age\": float(input(\"Enter age: \")),\n",
    "    \"sex\": int(input(\"Enter sex (0 for female, 1 for male): \")),\n",
    "    \"bmi\": float(input(\"Enter BMI: \")),\n",
    "    \"children\": int(input(\"Enter number of children: \")),\n",
    "    \"smoker\": int(input(\"Enter smoker status (0 for no, 1 for yes): \")),\n",
    "    \"region\": int(input(\"Enter region (0 for northeast, 1 for northwest, 2 for southeast, 3 for southwest): \"))\n",
    "}\n",
    "\n",
    "# Convert user input to a DataFrame\n",
    "user_df = pd.DataFrame([user_input])\n",
    "\n",
    "# Normalize numerical columns\n",
    "\n",
    "user_df['age'] = scaler_age.transform(user_df['age'].to_numpy().reshape(-1, 1))\n",
    "\n",
    "\n",
    "user_df['bmi'] = scaler_bmi.transform(user_df['bmi'].to_numpy().reshape(-1, 1))\n",
    "\n",
    "\n",
    "user_df['children'] = scaler_children.transform(user_df['children'].to_numpy().reshape(-1, 1))\n",
    "\n",
    "\n",
    "# Make predictions\n",
    "predicted_expenses = loaded_model.predict(user_df)\n",
    "print(f\"Predicted expenses: ${predicted_expenses[0]:.2f}\")"
   ]
  }
 ],
 "metadata": {
  "kernelspec": {
   "display_name": "Python 3",
   "language": "python",
   "name": "python3"
  },
  "language_info": {
   "codemirror_mode": {
    "name": "ipython",
    "version": 3
   },
   "file_extension": ".py",
   "mimetype": "text/x-python",
   "name": "python",
   "nbconvert_exporter": "python",
   "pygments_lexer": "ipython3",
   "version": "3.8.0"
  }
 },
 "nbformat": 4,
 "nbformat_minor": 5
}
